{
 "cells": [
  {
   "cell_type": "markdown",
   "id": "ccbebed3-9329-4e75-ba38-b06574891cf5",
   "metadata": {},
   "source": [
    "# Webdataset reader example in rocAL\n",
    "This example demonstrates how to set up a simple webdataset reader pipeline that loads and decodes image data stored in webdataset format using rocAL."
   ]
  },
  {
   "cell_type": "markdown",
   "id": "1227f440-4c24-4e20-9c96-9a167856b081",
   "metadata": {},
   "source": [
    "<font size=\"12\"> Common Code </font>"
   ]
  },
  {
   "cell_type": "code",
   "execution_count": null,
   "id": "7299da1c-e1f0-4672-8253-086b8a997b7e",
   "metadata": {},
   "outputs": [],
   "source": [
    "import numpy as np\n",
    "from amd.rocal.plugin.generic import ROCALClassificationIterator\n",
    "from amd.rocal.pipeline import pipeline_def\n",
    "import amd.rocal.fn as fn\n",
    "import amd.rocal.types as types\n",
    "import matplotlib.pyplot as plt\n",
    "import os\n",
    "%matplotlib inline"
   ]
  },
  {
   "cell_type": "markdown",
   "id": "7267c8c0",
   "metadata": {},
   "source": [
    "## Using fn.readers.webdataset operator\n",
    "\n",
    "Data stored in WebDataset format is read using `fn.readers.webdataset` function. It takes the following arguments:\n",
    "\n",
    "* `path`: the path to the webdataset tar files.\n",
    "* `index_paths`: the path to the index files containing data about the tar files. If no path is provided, information is inferred from the tar files themselves. See `tar2idx` in the `tools` folder.\n",
    "* `ext`: extensions of the types of data in the tar files. If there's more than one extension, the extensions must be separated by a semicolon (',').\n",
    "* `missing_components_behavior`: specifies how the reader behaves when a sample in your dataset lacks a specific file that the reader expects to find. For example, if you are reading image-caption pairs and a sample only has an image but no caption file. This can be one of three options:\n",
    "    * `MISSING_COMPONENT_EMPTY`: an empty tensor is returned for the missing component.\n",
    "    * `MISSING_COMPONENT_SKIP`: the sample is skipped (e.g., both the image and the missing caption).\n",
    "    * `MISSING_COMPONENT_ERROR`: an error is thrown. This is the default behaviour.\n",
    "`fn.readers.webdataset` also accepts arguments common to all readers: random number generator seed, shuffling, sharding, and last batch policy.\n"
   ]
  },
  {
   "cell_type": "markdown",
   "id": "04eb0282-68e0-4476-8359-baa753ca50f5",
   "metadata": {},
   "source": [
    "<font size= \"12\" >Configuring rocAL pipeline </font>"
   ]
  },
  {
   "cell_type": "markdown",
   "id": "f25cc29e",
   "metadata": {},
   "source": [
    "<div class=\"alert alert-block alert-warning\">\n",
    "<b>Note:</b> Set the ROCAL_DATA_PATH environment variable before running the notebook.\n",
    "</div>\n",
    "\n",
    "### Prepare dataset\n",
    "\n",
    "The data needs to be organized in separate folders under rocal_data directory for each reader. For webdataset reader, a directory named web_dataset should be created - the data (.tar files) should be added inside a subfolder named tar_file and the metadata (.idx files) should be added inside a subfolder named idx_file.\n"
   ]
  },
  {
   "cell_type": "code",
   "execution_count": null,
   "id": "b82cce92",
   "metadata": {},
   "outputs": [],
   "source": [
    "# Check if ROCAL_DATA_PATH is set\n",
    "rocal_data_path = os.environ.get('ROCAL_DATA_PATH')\n",
    "if rocal_data_path is None:\n",
    "    raise EnvironmentError(\"ROCAL_DATA_PATH environment variable is not set. Please set it to the correct path.\")\n",
    "else:\n",
    "    print(f\"ROCAL_DATA_PATH IS SET TO: {rocal_data_path}\")\n",
    "wds_data_path = f\"{rocal_data_path}/rocal_data/web_dataset/tar_file/\""
   ]
  },
  {
   "cell_type": "markdown",
   "id": "ff47af0f-c9c7-4615-8cea-ef2c98b4026b",
   "metadata": {},
   "source": [
    "<font size=\"12\">Webdataset pipeline </font>"
   ]
  },
  {
   "cell_type": "markdown",
   "id": "58c87583-492e-480f-a44a-a2e65540d16f",
   "metadata": {},
   "source": [
    "Here the webdataset reader is used followed by the webdataset decoder. In this pipeline, cascaded augmentations are added on the decoded images.<br>crop mirror normalize augmentation outputs are returned using set_outputs"
   ]
  },
  {
   "cell_type": "code",
   "execution_count": null,
   "id": "f4287e99",
   "metadata": {},
   "outputs": [],
   "source": [
    "@pipeline_def(batch_size=1, num_threads=4, device_id=0, rocal_cpu=True)\n",
    "def wds_pipeline(wds_data=wds_data_path):\n",
    "    img_raw = fn.readers.webdataset(path=wds_data, ext=[{'JPEG', 'cls'}], missing_components_behavior=types.MISSING_COMPONENT_SKIP)\n",
    "    img = fn.decoders.image(img_raw, file_root=wds_data, max_decoded_width=416, max_decoded_height=416)\n",
    "    resize_outputs = fn.resize(img, resize_width=300, resize_height=300)\n",
    "    output = fn.crop_mirror_normalize(resize_outputs,\n",
    "                                        output_layout=types.NHWC,\n",
    "                                        output_dtype=types.UINT8,\n",
    "                                        crop=(224, 224),\n",
    "                                        mean=[0.0, 0.0, 0.0],\n",
    "                                        std=[1.0, 1.0, 1.0])\n",
    "    return output"
   ]
  },
  {
   "cell_type": "code",
   "execution_count": null,
   "id": "8c98c6a4-0e33-491a-bd4d-2b68b66ccac7",
   "metadata": {},
   "outputs": [],
   "source": [
    "webdataset_pipeline = wds_pipeline()\n",
    "webdataset_pipeline.build()\n",
    "data_loader = ROCALClassificationIterator(webdataset_pipeline)"
   ]
  },
  {
   "cell_type": "markdown",
   "id": "15a2a8e3-e8b5-4522-b398-b59c3a75cb7a",
   "metadata": {},
   "source": [
    "<font size =\"12\">Visualizing  outputs</font>"
   ]
  },
  {
   "cell_type": "markdown",
   "id": "4ea5a166-95ad-4986-8573-6bdd75699aa8",
   "metadata": {},
   "source": [
    "The output of augmented images is displayed using imshow()"
   ]
  },
  {
   "cell_type": "code",
   "execution_count": null,
   "id": "552c989b-3df9-459d-b136-f3d7031fe440",
   "metadata": {},
   "outputs": [],
   "source": [
    "cnt = 0\n",
    "fig, axes = plt.subplots(nrows=2, ncols=4, figsize=(15,15))\n",
    "row = 0\n",
    "col = 0\n",
    "for i, it in enumerate(data_loader, 0):\n",
    "    for img in it[0]:\n",
    "        img[0] = img[0].astype(np.uint8)\n",
    "        axes[row, col].imshow(img[0])\n",
    "        cnt += 1\n",
    "        row += 1\n",
    "        if(row == 2):\n",
    "            row = 0\n",
    "            col += 1\n",
    "        if(col == 4):\n",
    "            col = 0\n",
    "data_loader.reset()"
   ]
  }
 ],
 "metadata": {
  "kernelspec": {
   "display_name": "Python 3 (ipykernel)",
   "language": "python",
   "name": "python3"
  }
 },
 "nbformat": 4,
 "nbformat_minor": 5
}
